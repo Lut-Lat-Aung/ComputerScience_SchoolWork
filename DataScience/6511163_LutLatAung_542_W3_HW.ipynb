{
 "cells": [
  {
   "cell_type": "code",
   "execution_count": null,
   "id": "c7fe43fa",
   "metadata": {},
   "outputs": [],
   "source": [
    "#Ex1"
   ]
  },
  {
   "cell_type": "code",
   "execution_count": 35,
   "id": "d6ef400d",
   "metadata": {
    "scrolled": false
   },
   "outputs": [],
   "source": [
    "import pandas as pd\n",
    "import matplotlib.pyplot as plt\n",
    "%matplotlib inline\n",
    "\n",
    "WorldBankdf = pd.read_csv('WorldBank_GDP.csv')\n",
    "Country = WorldBankdf.groupby('Country Name')\n"
   ]
  },
  {
   "cell_type": "code",
   "execution_count": 91,
   "id": "08abca70",
   "metadata": {},
   "outputs": [
    {
     "data": {
      "image/png": "[encoded data removed]",
      "text/plain": [
       "<Figure size 432x288 with 1 Axes>"
      ]
     },
     "metadata": {
      "needs_background": "light"
     },
     "output_type": "display_data"
    },
    {
     "name": "stdout",
     "output_type": "stream",
     "text": [
      "The GDP of United States, China and Germany is growing according to the line graph. Japan is not growing.\n"
     ]
    }
   ],
   "source": [
    "CountryChina = WorldBankdf[WorldBankdf['Country Name'] == 'China']\n",
    "CountryJapan = WorldBankdf[WorldBankdf['Country Name'] == 'Japan']\n",
    "CountryGermany = WorldBankdf[WorldBankdf['Country Name'] == 'Germany']\n",
    "CountryUnitedState = WorldBankdf[WorldBankdf['Country Name'] == 'United States']\n",
    "\n",
    "\n",
    "plt.plot(CountryUnitedState['Year'], CountryUnitedState['GDP'], label = 'United States')\n",
    "plt.plot(CountryChina['Year'], CountryChina['GDP'], label = \"China\")\n",
    "plt.plot(CountryJapan['Year'], CountryJapan['GDP'], label = 'Japan')\n",
    "plt.plot(CountryGermany['Year'], CountryGermany['GDP'], label = 'Germany')\n",
    "plt.title(\"The GDP Growth of the Countries between 2010 and 2018\")\n",
    "plt.xlabel(\"Years\")\n",
    "plt.ylabel(\"GDP of four countries\")\n",
    "plt.grid()\n",
    "plt.legend()\n",
    "plt.show()\n",
    "\n",
    "print(\"The GDP of United States, China and Germany is growing according to the line graph. Japan is not growing.\")"
   ]
  },
  {
   "cell_type": "code",
   "execution_count": 90,
   "id": "169b6b94",
   "metadata": {},
   "outputs": [],
   "source": [
    "#Ex1 the GDP of United States, China and Germany is growing according to the line graph. Japan is not growing."
   ]
  },
  {
   "cell_type": "code",
   "execution_count": null,
   "id": "88470e0f",
   "metadata": {},
   "outputs": [],
   "source": [
    "#Ex2 Sudan has the highest average temperature according to the result."
   ]
  },
  {
   "cell_type": "code",
   "execution_count": 69,
   "id": "473ee679",
   "metadata": {},
   "outputs": [
    {
     "name": "stdout",
     "output_type": "stream",
     "text": [
      "country\n",
      "Afghanistan                           15.525756\n",
      "Angola                                24.387659\n",
      "Australia                             16.028104\n",
      "Bangladesh                            26.164378\n",
      "Brazil                                23.906030\n",
      "Burma                                 27.514213\n",
      "Canada                                 6.637158\n",
      "Chile                                  6.345768\n",
      "China                                 12.983107\n",
      "Colombia                              21.649607\n",
      "Congo (Democratic Republic Of The)    24.504963\n",
      "Côte D'Ivoire                         26.971024\n",
      "Dominican Republic                    26.852800\n",
      "Egypt                                 22.044807\n",
      "Ethiopia                              18.425378\n",
      "France                                11.514274\n",
      "Germany                               10.152421\n",
      "India                                 26.633255\n",
      "Indonesia                             27.408634\n",
      "Iran                                  14.228701\n",
      "Iraq                                  24.074841\n",
      "Italy                                 13.127646\n",
      "Japan                                 14.526165\n",
      "Kenya                                 16.817134\n",
      "Mexico                                16.406630\n",
      "Morocco                               18.336195\n",
      "Nigeria                               27.176191\n",
      "Pakistan                              25.824654\n",
      "Peru                                  17.203762\n",
      "Philippines                           27.153518\n",
      "Russia                                 5.557576\n",
      "Saudi Arabia                          27.635610\n",
      "Senegal                               25.425994\n",
      "Singapore                             27.323165\n",
      "Somalia                               27.963183\n",
      "South Africa                          18.913680\n",
      "South Korea                           11.693262\n",
      "Spain                                 12.460860\n",
      "Sudan                                 29.981780\n",
      "Syria                                 18.501244\n",
      "Taiwan                                23.078829\n",
      "Tanzania                              26.481774\n",
      "Thailand                              27.929518\n",
      "Turkey                                14.799793\n",
      "Ukraine                                8.701683\n",
      "United Kingdom                        10.523585\n",
      "United States                         12.954515\n",
      "Vietnam                               27.909878\n",
      "Zimbabwe                              20.721988\n",
      "Name: avg_temp_c, dtype: float64\n",
      "The country with the higest avarage temperature throughout the year is  Sudan\n"
     ]
    }
   ],
   "source": [
    "Temperature = pd.read_csv('temperatures.csv')\n",
    "\n",
    "\n",
    "Tem_Highest1 = Temperature.groupby('country') \n",
    "Tem_Highest = Tem_Highest1['avg_temp_c'].mean()\n",
    "Countrywith_HighTem = Tem_Highest.idxmax()\n",
    "print(Tem_Highest)\n",
    "print(\"The country with the higest avarage temperature throughout the year is \", Countrywith_HighTem)\n"
   ]
  },
  {
   "cell_type": "code",
   "execution_count": null,
   "id": "fb79acd1",
   "metadata": {},
   "outputs": [],
   "source": [
    "#Ex3 The countries where the average temperature is in the range of 20 and 30 Celsius"
   ]
  },
  {
   "cell_type": "code",
   "execution_count": 84,
   "id": "c9ba127c",
   "metadata": {},
   "outputs": [
    {
     "name": "stdout",
     "output_type": "stream",
     "text": [
      "There are 25 countries\n",
      "country\n",
      "Angola                                24.387659\n",
      "Bangladesh                            26.164378\n",
      "Brazil                                23.906030\n",
      "Burma                                 27.514213\n",
      "Colombia                              21.649607\n",
      "Congo (Democratic Republic Of The)    24.504963\n",
      "Côte D'Ivoire                         26.971024\n",
      "Dominican Republic                    26.852800\n",
      "Egypt                                 22.044807\n",
      "India                                 26.633255\n",
      "Indonesia                             27.408634\n",
      "Iraq                                  24.074841\n",
      "Nigeria                               27.176191\n",
      "Pakistan                              25.824654\n",
      "Philippines                           27.153518\n",
      "Saudi Arabia                          27.635610\n",
      "Senegal                               25.425994\n",
      "Singapore                             27.323165\n",
      "Somalia                               27.963183\n",
      "Sudan                                 29.981780\n",
      "Taiwan                                23.078829\n",
      "Tanzania                              26.481774\n",
      "Thailand                              27.929518\n",
      "Vietnam                               27.909878\n",
      "Zimbabwe                              20.721988\n",
      "Name: avg_temp_c, dtype: float64\n"
     ]
    }
   ],
   "source": [
    "t20and30 = Tem_Highest[(Tem_Highest >= 20) & (Tem_Highest <= 30)]\n",
    "\n",
    "print(\"There are\", t20and30.count(), \"countries\")\n",
    "print(t20and30)"
   ]
  },
  {
   "cell_type": "code",
   "execution_count": null,
   "id": "21cae90e",
   "metadata": {},
   "outputs": [],
   "source": [
    "#Ex4 the average temperature of Thailand during 2005-01-01 and 2010-01-01"
   ]
  },
  {
   "cell_type": "code",
   "execution_count": 92,
   "id": "fd98f91e",
   "metadata": {},
   "outputs": [
    {
     "name": "stdout",
     "output_type": "stream",
     "text": [
      "The avg. temp of Thailand during 2005-2010 is 27.760147540983613\n"
     ]
    },
    {
     "data": {
      "text/html": [
       "<div>\n",
       "<style scoped>\n",
       "    .dataframe tbody tr th:only-of-type {\n",
       "        vertical-align: middle;\n",
       "    }\n",
       "\n",
       "    .dataframe tbody tr th {\n",
       "        vertical-align: top;\n",
       "    }\n",
       "\n",
       "    .dataframe thead th {\n",
       "        text-align: right;\n",
       "    }\n",
       "</style>\n",
       "<table border=\"1\" class=\"dataframe\">\n",
       "  <thead>\n",
       "    <tr style=\"text-align: right;\">\n",
       "      <th></th>\n",
       "      <th>Unnamed: 0</th>\n",
       "      <th>date</th>\n",
       "      <th>city</th>\n",
       "      <th>country</th>\n",
       "      <th>avg_temp_c</th>\n",
       "    </tr>\n",
       "  </thead>\n",
       "  <tbody>\n",
       "    <tr>\n",
       "      <th>1380</th>\n",
       "      <td>1380</td>\n",
       "      <td>2005-01-01</td>\n",
       "      <td>Bangkok</td>\n",
       "      <td>Thailand</td>\n",
       "      <td>25.323</td>\n",
       "    </tr>\n",
       "    <tr>\n",
       "      <th>1381</th>\n",
       "      <td>1381</td>\n",
       "      <td>2005-02-01</td>\n",
       "      <td>Bangkok</td>\n",
       "      <td>Thailand</td>\n",
       "      <td>28.225</td>\n",
       "    </tr>\n",
       "    <tr>\n",
       "      <th>1382</th>\n",
       "      <td>1382</td>\n",
       "      <td>2005-03-01</td>\n",
       "      <td>Bangkok</td>\n",
       "      <td>Thailand</td>\n",
       "      <td>28.825</td>\n",
       "    </tr>\n",
       "    <tr>\n",
       "      <th>1383</th>\n",
       "      <td>1383</td>\n",
       "      <td>2005-04-01</td>\n",
       "      <td>Bangkok</td>\n",
       "      <td>Thailand</td>\n",
       "      <td>30.210</td>\n",
       "    </tr>\n",
       "    <tr>\n",
       "      <th>1384</th>\n",
       "      <td>1384</td>\n",
       "      <td>2005-05-01</td>\n",
       "      <td>Bangkok</td>\n",
       "      <td>Thailand</td>\n",
       "      <td>30.023</td>\n",
       "    </tr>\n",
       "    <tr>\n",
       "      <th>...</th>\n",
       "      <td>...</td>\n",
       "      <td>...</td>\n",
       "      <td>...</td>\n",
       "      <td>...</td>\n",
       "      <td>...</td>\n",
       "    </tr>\n",
       "    <tr>\n",
       "      <th>1436</th>\n",
       "      <td>1436</td>\n",
       "      <td>2009-09-01</td>\n",
       "      <td>Bangkok</td>\n",
       "      <td>Thailand</td>\n",
       "      <td>28.308</td>\n",
       "    </tr>\n",
       "    <tr>\n",
       "      <th>1437</th>\n",
       "      <td>1437</td>\n",
       "      <td>2009-10-01</td>\n",
       "      <td>Bangkok</td>\n",
       "      <td>Thailand</td>\n",
       "      <td>27.564</td>\n",
       "    </tr>\n",
       "    <tr>\n",
       "      <th>1438</th>\n",
       "      <td>1438</td>\n",
       "      <td>2009-11-01</td>\n",
       "      <td>Bangkok</td>\n",
       "      <td>Thailand</td>\n",
       "      <td>26.533</td>\n",
       "    </tr>\n",
       "    <tr>\n",
       "      <th>1439</th>\n",
       "      <td>1439</td>\n",
       "      <td>2009-12-01</td>\n",
       "      <td>Bangkok</td>\n",
       "      <td>Thailand</td>\n",
       "      <td>25.973</td>\n",
       "    </tr>\n",
       "    <tr>\n",
       "      <th>1440</th>\n",
       "      <td>1440</td>\n",
       "      <td>2010-01-01</td>\n",
       "      <td>Bangkok</td>\n",
       "      <td>Thailand</td>\n",
       "      <td>26.615</td>\n",
       "    </tr>\n",
       "  </tbody>\n",
       "</table>\n",
       "<p>61 rows × 5 columns</p>\n",
       "</div>"
      ],
      "text/plain": [
       "      Unnamed: 0        date     city   country  avg_temp_c\n",
       "1380        1380  2005-01-01  Bangkok  Thailand      25.323\n",
       "1381        1381  2005-02-01  Bangkok  Thailand      28.225\n",
       "1382        1382  2005-03-01  Bangkok  Thailand      28.825\n",
       "1383        1383  2005-04-01  Bangkok  Thailand      30.210\n",
       "1384        1384  2005-05-01  Bangkok  Thailand      30.023\n",
       "...          ...         ...      ...       ...         ...\n",
       "1436        1436  2009-09-01  Bangkok  Thailand      28.308\n",
       "1437        1437  2009-10-01  Bangkok  Thailand      27.564\n",
       "1438        1438  2009-11-01  Bangkok  Thailand      26.533\n",
       "1439        1439  2009-12-01  Bangkok  Thailand      25.973\n",
       "1440        1440  2010-01-01  Bangkok  Thailand      26.615\n",
       "\n",
       "[61 rows x 5 columns]"
      ]
     },
     "execution_count": 92,
     "metadata": {},
     "output_type": "execute_result"
    }
   ],
   "source": [
    "tbetween = Temperature[(Temperature['date'] >= '2005-01-01') & (Temperature['date'] <= '2010-01-01') ]\n",
    "\n",
    "tThai = tbetween[tbetween['country'] == \"Thailand\"]\n",
    "ThaiTemp = tThai['avg_temp_c'].mean()\n",
    "\n",
    "print(\"The avg. temp of Thailand during 2005-2010 is\",ThaiTemp)\n",
    "tThai"
   ]
  },
  {
   "cell_type": "code",
   "execution_count": null,
   "id": "82092683",
   "metadata": {},
   "outputs": [],
   "source": []
  }
 ],
 "metadata": {
  "kernelspec": {
   "display_name": "Python 3 (ipykernel)",
   "language": "python",
   "name": "python3"
  },
  "language_info": {
   "codemirror_mode": {
    "name": "ipython",
    "version": 3
   },
   "file_extension": ".py",
   "mimetype": "text/x-python",
   "name": "python",
   "nbconvert_exporter": "python",
   "pygments_lexer": "ipython3",
   "version": "3.9.12"
  }
 },
 "nbformat": 4,
 "nbformat_minor": 5
}
